{
 "cells": [
  {
   "cell_type": "markdown",
   "id": "8f4fe704",
   "metadata": {},
   "source": [
    "# 📍 Visualización de Plusvalía Inmobiliaria — Valdivia\n",
    "\n",
    "Este notebook carga los resultados procesados desde `data/processed/plusvalia_valdivia.geojson` y genera un mapa interactivo con Folium."
   ]
  },
  {
   "cell_type": "code",
   "execution_count": null,
   "id": "dca49bd3",
   "metadata": {},
   "outputs": [],
   "source": [
    "import geopandas as gpd\n",
    "import folium\n",
    "from folium.plugins import MarkerCluster\n",
    "\n",
    "# 📂 Cargar datos\n",
    "manzanas = gpd.read_file(\"../data/processed/manzanas.geojson\")\n",
    "servicios = gpd.read_file(\"../data/processed/servicios.geojson\")\n",
    "\n",
    "# 🗺️ Crear mapa base centrado en Valdivia\n",
    "m = folium.Map(location=[-39.8, -73.25], zoom_start=13)\n",
    "\n",
    "# 🌈 Capa de choropleth con plusvalía\n",
    "folium.Choropleth(\n",
    "    geo_data=manzanas,\n",
    "    data=manzanas,\n",
    "    columns=['COD_MANZAN', 'score_plusvalia'],\n",
    "    key_on='feature.properties.COD_MANZAN',\n",
    "    fill_color='YlOrRd',\n",
    "    fill_opacity=0.7,\n",
    "    line_opacity=0.2,\n",
    "    legend_name='Potencial de Plusvalía'\n",
    ").add_to(m)\n",
    "\n",
    "# 📍 Capa de servicios públicos (cluster de marcadores)\n",
    "marker_cluster = MarkerCluster().add_to(m)\n",
    "for _, row in servicios.iterrows():\n",
    "    punto = row.geometry.centroid  # Si son puntos no hace falta centroid, pero por seguridad\n",
    "    folium.Marker(\n",
    "        location=[punto.y, punto.x],\n",
    "        popup=row['name'],\n",
    "        icon=folium.Icon(color='blue', icon='info-sign')\n",
    "    ).add_to(marker_cluster)\n",
    "\n",
    "# 🖌️ Leyenda personalizada\n",
    "legend_html = \"\"\"\n",
    " <div style=\"position: fixed; \n",
    "             bottom: 40px; left: 40px; width: 250px; height: 160px; \n",
    "             background-color: white; z-index:9999; font-size:14px;\n",
    "             border:2px solid grey; border-radius:10px; padding: 10px;\">\n",
    " <b>🔎 Leyenda</b><br>\n",
    " 🟥 Alta plusvalía<br>\n",
    " 🟧 Media-alta<br>\n",
    " 🟨 Media<br>\n",
    " 🟩 Baja<br>\n",
    " 📍 Servicios públicos (Azul)<br>\n",
    " </div>\n",
    "\"\"\"\n",
    "m.get_root().html.add_child(folium.Element(legend_html))\n",
    "\n",
    "# 🖥️ Mostrar mapa\n",
    "m"
   ]
  }
 ],
 "metadata": {
  "kernelspec": {
   "display_name": "Python 3 (ipykernel)",
   "language": "python",
   "name": "python3"
  },
  "language_info": {
   "codemirror_mode": {
    "name": "ipython",
    "version": 3
   },
   "file_extension": ".py",
   "mimetype": "text/x-python",
   "name": "python",
   "nbconvert_exporter": "python",
   "pygments_lexer": "ipython3",
   "version": "3.11.9"
  }
 },
 "nbformat": 4,
 "nbformat_minor": 5
}

{
 "cells": [
  {
   "cell_type": "markdown",
   "metadata": {},
   "source": [
    "# 📍 Visualización de Plusvalía Inmobiliaria — Valdivia\n",
    "\n",
    "Este notebook carga los resultados procesados desde `data/processed/plusvalia_valdivia.geojson` y genera un mapa interactivo con Folium."
   ]
  },
  {
   "cell_type": "code",
   "metadata": {},
   "source": [
    "# 📦 Cargar librerías necesarias\n",
    "import geopandas as gpd\n",
    "import folium"
   ],
   "execution_count": null,
   "outputs": []
  },
  {
   "cell_type": "code",
   "metadata": {},
   "source": [
    "# 📂 Cargar el GeoJSON procesado\n",
    "geojson_path = '../data/processed/plusvalia_valdivia.geojson'\n",
    "gdf = gpd.read_file(geojson_path)\n",
    "gdf.head()"
   ],
   "execution_count": null,
   "outputs": []
  },
  {
   "cell_type": "code",
   "metadata": {},
   "source": [
    "# 🗺️ Crear un mapa base centrado en Valdivia\n",
    "valdivia_coords = [-39.81422, -73.24589]\n",
    "m = folium.Map(location=valdivia_coords, zoom_start=13)\n",
    "\n",
    "# 🎨 Agregar los polígonos de las zonas con potencial de plusvalía\n",
    "folium.GeoJson(\n",
    "    gdf,\n",
    "    name=\"plusvalia\",\n",
    "    tooltip=folium.features.GeoJsonTooltip(fields=['comuna', 'manzana', 'score_plusvalia'],\n",
    "                                            aliases=['Comuna:', 'Manzana:', 'Score:'])\n",
    ").add_to(m)\n",
    "\n",
    "# Mostrar el mapa\n",
    "m"
   ],
   "execution_count": null,
   "outputs": []
  }
 ],
 "metadata": {
  "kernelspec": {
   "display_name": "Python 3",
   "language": "python",
   "name": "python3"
  },
  "language_info": {
   "name": "python",
   "version": "3.10"
  }
 },
 "nbformat": 4,
 "nbformat_minor": 5
}
